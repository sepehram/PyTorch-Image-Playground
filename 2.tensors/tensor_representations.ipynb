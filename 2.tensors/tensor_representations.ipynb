{
 "cells": [
  {
   "cell_type": "code",
   "execution_count": 16,
   "id": "e020913b-9051-45aa-94bc-fb91eb219683",
   "metadata": {},
   "outputs": [
    {
     "data": {
      "text/plain": [
       "torch.Size([3, 1024, 768])"
      ]
     },
     "execution_count": 16,
     "metadata": {},
     "output_type": "execute_result"
    }
   ],
   "source": [
    "import imageio\n",
    "img_arr = imageio.imread(\"candy2.jpeg\")\n",
    "img_arr.shape #height*width*channel\n",
    "\n",
    "import torch\n",
    "img = torch.from_numpy(img_arr)\n",
    "out = img.permute(2,0,1) #change the order of dimensions to channel*height*width\n",
    "out.shape"
   ]
  },
  {
   "cell_type": "code",
   "execution_count": 58,
   "id": "7d8ae9b0-2332-4ee5-9506-346a8a2a79e8",
   "metadata": {},
   "outputs": [],
   "source": [
    "import os\n",
    "\n",
    "data_dir = \"./image-cats/\"\n",
    "filenames = [name for name in os.listdir(data_dir) \n",
    "           if os.path.splitext(name)[-1] == \".png\"]\n",
    "\n",
    "batch_size = 3\n",
    "batch = torch.zeros(batch_size, 3, 256, 256, dtype = torch.uint8)\n",
    "batch.shape\n",
    "\n",
    "#read image files, permute dimensions, put in batch\n",
    "for i,name in enumerate(filenames):\n",
    "    img_arr = imageio.imread(os.path.join(data_dir,name))\n",
    "    img_t = torch.from_numpy(img_arr)\n",
    "    img_t = img_t.permute(2,0,1)\n",
    "    img_t = img_t[:3]\n",
    "    batch[i] = img_t\n",
    "    \n",
    "batch = batch.float() # make all values floating point\n",
    "batch /= 255 # normalize by dividing to max possible value\n",
    "\n",
    "#normalize by mean and std in each color channel\n",
    "n_channels = batch.shape[-3]\n",
    "for c in range(n_channels):\n",
    "    #batch[:,c] is the collection of all images in the batch focused on a single color\n",
    "    mean = torch.mean(batch[:,c])\n",
    "    std = torch.std(batch[:,c])\n",
    "    batch[:,c] = (batch[:,c] - mean) / std"
   ]
  },
  {
   "cell_type": "code",
   "execution_count": 76,
   "id": "ce5e8d6d-3c11-4290-bed1-fe27c44366e2",
   "metadata": {},
   "outputs": [
    {
     "name": "stdout",
     "output_type": "stream",
     "text": [
      "Reading DICOM (examining files): 1/99 files (1.0%99/99 files (100.0%)\n",
      "  Found 1 correct series.\n",
      "Reading DICOM (loading data): 99/99  (100.0%)\n"
     ]
    },
    {
     "data": {
      "text/plain": [
       "torch.Size([1, 99, 512, 512])"
      ]
     },
     "execution_count": 76,
     "metadata": {},
     "output_type": "execute_result"
    }
   ],
   "source": [
    "#volumetric medical data: DICOM\n",
    "data_dir = './volumetric-dicom/2-LUNG 3.0  B70f-04083/'\n",
    "vol_arr = imageio.volread(data_dir, 'DICOM')\n",
    "#vol_arr.shape # depth * height * width\n",
    "\n",
    "vol = torch.from_numpy(vol_arr)\n",
    "vol = torch.unsqueeze(vol,0) #add color channel dimension as the first (0) coordinate\n",
    "#vol.shape # color * depth * height * width"
   ]
  },
  {
   "cell_type": "code",
   "execution_count": 163,
   "id": "5fafe6ac-172f-4846-801b-d4ee70eaaf6e",
   "metadata": {},
   "outputs": [],
   "source": [
    "#tabular data: csv file\n",
    "import csv\n",
    "import numpy as np\n",
    "\n",
    "data_path = \"./tabular-wine/winequality-white.csv\"\n",
    "full_table_arr = np.loadtxt(data_path, dtype = np.float32, delimiter=';', skiprows=1) #skiprows=N skips the first N rows\n",
    "full_table_t = torch.from_numpy(full_table_arr)\n",
    "\n",
    "#separate data from target (labels)\n",
    "data_t = full_table_t[:, :-1]\n",
    "target_t = full_table_t[:, -1]\n",
    "\n",
    "#one hot encoding for the target\n",
    "onehot_target_t = torch.zeros(target_t.shape[0], 10).long() #10 different values of target\n",
    "onehot_target_t.scatter_(1, target_t.unsqueeze(1).long(), 1.0)\n",
    "\n",
    "#normalization by mean and std for each column of data\n",
    "data_mean = torch.mean(data_t, dim=0) #dim=0, mean is calculated along dimension 0, i.e., for each column\n",
    "data_std = torch.std(data_t, dim=0)\n",
    "data_norm = (data_t - data_mean) / data_std\n",
    "\n",
    "bad_indexes = target_t <= 3\n",
    "#bad_indexes.shape, bad_indexes.dtype, bad_indexes.sum()\n",
    "bad_data = data_t[bad_indexes] #tensor with boolean data can be fed to a tensor to do filtering\n",
    "#bad_data.shape\n",
    "\n",
    "#divide data to bad, mid, and good according to label\n",
    "bad_data = data_t[target_t <= 3]\n",
    "mid_data = data_t[(target_t > 3) & (target_t < 7)]\n",
    "good_data = data_t[target_t >= 7]\n",
    "#bad_data.shape, mid_data.shape, good_data.shape\n",
    "\n",
    "bad_mean = torch.mean(bad_data, dim=0)\n",
    "mid_mean = torch.mean(mid_data, dim=0)\n",
    "good_mean = torch.mean(good_data, dim=0)\n",
    "\n",
    "total_sulfur_threshold = float(mid_mean[6]) #141.83\n",
    "total_sulfur_data = data_t[:,6]\n",
    "above_average_data = data_t[total_sulfur_data < total_sulfur_threshold]\n",
    "#total_sulfur_threshold\n",
    "#total_sulfur_data.shape\n",
    "#above_average_data.shape"
   ]
  },
  {
   "cell_type": "code",
   "execution_count": 199,
   "id": "3c29224b-b6f8-43f0-baa2-511af45bc865",
   "metadata": {},
   "outputs": [],
   "source": [
    "bikes_arr = np.loadtxt('./bike-sharing-dataset/hour-fixed.csv', \n",
    "                      dtype=np.float32, skiprows=1, delimiter=',',\n",
    "                      converters = {1: lambda x: float(x[8:10])} )\n",
    "bikes_t = torch.from_numpy(bikes_arr)\n",
    "#bikes_t.shape\n",
    "\n",
    "daily_bikes_t = bikes_t.view(-1, 24, 17) # -1 is a placeholder for the remaining dimension size\n",
    "#daily_bikes_t.shape\n",
    "daily_bikes_t = daily_bikes_t.transpose(1,2)\n",
    "\n",
    "#onehot encoding of weather data (column 9): 1st attempt\n",
    "firstday = bikes_t[:24].long()\n",
    "weather_onehot = torch.zeros(firstday.shape[0],4)\n",
    "#weather_onehot.shape\n",
    "firstday[:,9]\n",
    "weather_onehot.scatter_(dim=1, index=firstday[:,9].unsqueeze(1).long()-1, value=1.0)\n",
    "torch.cat((bikes_t[:24],weather_onehot),dim=1) #concat along dim 1, i.e. column\n",
    "\n",
    "#onehot encoding of weather data (column 9): 2nd attempt\n",
    "#daily_bikes_t.shape\n",
    "daily_weather_onehot = torch.zeros(daily_bikes_t.shape[0],4,daily_bikes_t.shape[2])\n",
    "daily_weather_onehot.scatter_(dim=1, index = daily_bikes_t[:,9,:].unsqueeze(1).long()-1, value=1.0)\n",
    "daily_weather_onehot.shape\n",
    "\n",
    "daily_bikes_t = torch.cat((daily_bikes_t, daily_weather_onehot), dim = 1)\n",
    "#daily_bikes_t.shape\n",
    "\n",
    "#quantifying weather in [0.0,1.0] range\n",
    "daily_bikes_t [:,9,:] = (daily_bikes_t [:,9,:] - 1.0) / 3.0\n",
    "\n",
    "#quantifying temperature (column 10): 1st attempt [0,1] range\n",
    "temp_t = daily_bikes_t[:,10,:]\n",
    "temp_min = torch.min(temp_t)\n",
    "temp_max = torch.max(temp_t)\n",
    "daily_bikes_t[:,10,:] = (daily_bikes_t[:,10,:] - temp_min) / (temp_max - temp_min)\n",
    "\n",
    "#quantifying temperature (column 10): 2nd attempt [-1,1] range\n",
    "daily_bikes_t[:,10,:] = (daily_bikes_t[:,10,:] - torch.mean(temp_t)) / torch.std(temp_t)\n"
   ]
  }
 ],
 "metadata": {
  "kernelspec": {
   "display_name": "Python 3 (ipykernel)",
   "language": "python",
   "name": "python3"
  },
  "language_info": {
   "codemirror_mode": {
    "name": "ipython",
    "version": 3
   },
   "file_extension": ".py",
   "mimetype": "text/x-python",
   "name": "python",
   "nbconvert_exporter": "python",
   "pygments_lexer": "ipython3",
   "version": "3.8.9"
  }
 },
 "nbformat": 4,
 "nbformat_minor": 5
}
