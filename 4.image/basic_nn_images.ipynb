{
 "cells": [
  {
   "cell_type": "code",
   "execution_count": 6,
   "id": "7e5e3002-715d-4b47-b8fb-8aa4aa328bdb",
   "metadata": {},
   "outputs": [
    {
     "name": "stdout",
     "output_type": "stream",
     "text": [
      "Files already downloaded and verified\n",
      "Files already downloaded and verified\n",
      "50000 10000\n"
     ]
    },
    {
     "data": {
      "text/plain": [
       "(<PIL.Image.Image image mode=RGB size=32x32 at 0x112E8D160>, 3)"
      ]
     },
     "execution_count": 6,
     "metadata": {},
     "output_type": "execute_result"
    },
    {
     "data": {
      "image/png": "[encoded data removed]",
      "text/plain": [
       "<Figure size 432x288 with 1 Axes>"
      ]
     },
     "metadata": {
      "needs_background": "light"
     },
     "output_type": "display_data"
    }
   ],
   "source": [
    "from torchvision import datasets\n",
    "\n",
    "#dir(datasets)\n",
    "dataset_train = datasets.CIFAR10('.', train = True, download = True) #download = True --> if not already in the path, then does\n",
    "dataset_val = datasets.CIFAR10('.', train = False, download = True) #train=False --> validation!\n",
    "\n",
    "print(len(dataset_train), len(dataset_val))\n",
    "\n",
    "from matplotlib import pyplot as plt\n",
    "img, label = dataset_train.__getitem__(159)\n",
    "plt.imshow(img)\n",
    "img, label"
   ]
  },
  {
   "cell_type": "code",
   "execution_count": 8,
   "id": "f139ceaf-304d-423d-b585-4ac62c890a3a",
   "metadata": {},
   "outputs": [
    {
     "name": "stdout",
     "output_type": "stream",
     "text": [
      "torch.Size([3, 32, 32])\n",
      "torch.Size([3, 32, 32]) torch.float32\n"
     ]
    },
    {
     "data": {
      "text/plain": [
       "<matplotlib.image.AxesImage at 0x112faaac0>"
      ]
     },
     "execution_count": 8,
     "metadata": {},
     "output_type": "execute_result"
    },
    {
     "data": {
      "image/png": "[encoded data removed]",
      "text/plain": [
       "<Figure size 432x288 with 1 Axes>"
      ]
     },
     "metadata": {
      "needs_background": "light"
     },
     "output_type": "display_data"
    }
   ],
   "source": [
    "from torchvision import transforms\n",
    "\n",
    "#dir(transforms)\n",
    "to_tensor = transforms.ToTensor() # changes np arrays and PIL images to tensors\n",
    "img_t = to_tensor(img)\n",
    "print(img_t.shape)\n",
    "\n",
    "#transform all items in dataset to tensors\n",
    "dataset_train_t = datasets.CIFAR10('.', train = True, download = False, \n",
    "                                   transform = transforms.ToTensor())\n",
    "\n",
    "dataset_val_t = datasets.CIFAR10('.', train = False, download = False, \n",
    "                                   transform = transforms.ToTensor())\n",
    "\n",
    "img_t, label = dataset_train_t[159]\n",
    "print(img_t.shape, img_t.dtype) # type: float in range 0. to 1.\n",
    "img_t\n",
    "\n",
    "#show the image from tensor form\n",
    "plt.imshow(img_t.permute(1,2,0)) #ToTrensor() changes dims from H*W*C to C*H*W, so needed to rechange it to original form"
   ]
  },
  {
   "cell_type": "code",
   "execution_count": 9,
   "id": "32e11834-4987-44c8-a420-741900dd8e3d",
   "metadata": {},
   "outputs": [
    {
     "name": "stdout",
     "output_type": "stream",
     "text": [
      "torch.Size([3, 32, 32, 50000])\n"
     ]
    },
    {
     "name": "stderr",
     "output_type": "stream",
     "text": [
      "Clipping input data to the valid range for imshow with RGB data ([0..1] for floats or [0..255] for integers).\n"
     ]
    },
    {
     "data": {
      "text/plain": [
       "<matplotlib.image.AxesImage at 0x112d45a30>"
      ]
     },
     "execution_count": 9,
     "metadata": {},
     "output_type": "execute_result"
    },
    {
     "data": {
      "image/png": "[encoded data removed]",
      "text/plain": [
       "<Figure size 432x288 with 1 Axes>"
      ]
     },
     "metadata": {
      "needs_background": "light"
     },
     "output_type": "display_data"
    }
   ],
   "source": [
    "#normalizing...\n",
    "\n",
    "import torch\n",
    "\n",
    "#stack up all img_t's in a tensor and compute mean and stdev across each channel\n",
    "imgs = torch.stack([img_t for img_t, _ in dataset_train_t], dim=3) #dim=3: 50000 appears as the 3rd dim\n",
    "print(imgs.shape)\n",
    "imgs.view(3,-1).shape #keeps the 3 channels (1st dim) and merges the rest: 32*32*50000\n",
    "means = imgs.view(3,-1).mean(dim=1) #mean over 2nd dim (of size 32*32*50000)\n",
    "[m1, m2, m3] = means.numpy()\n",
    "stdevs = imgs.view(3,-1).std(dim=1)\n",
    "[s1, s2, s3] = stdevs.numpy()\n",
    "\n",
    "#init normalizer\n",
    "transforms.Normalize((m1,m2,m3), (s1,s2,s3))\n",
    "\n",
    "dataset_train_transformed = datasets.CIFAR10('.', train = True, download = False,\n",
    "                                            transform = transforms.Compose([\n",
    "                                                transforms.ToTensor(),\n",
    "                                                transforms.Normalize((m1,m2,m3), (s1,s2,s3))\n",
    "                                            ]))\n",
    "dataset_val_transformed = datasets.CIFAR10('.', train = False, download = False,\n",
    "                                            transform = transforms.Compose([\n",
    "                                                transforms.ToTensor(),\n",
    "                                                transforms.Normalize((m1,m2,m3), (s1,s2,s3))\n",
    "                                            ]))\n",
    "\n",
    "img_t, _ = dataset_train_transformed[159]\n",
    "plt.imshow(img_t.permute(1,2,0)) #after normalization the showed image has deteriorated \n",
    "\n",
    "#checking the result of normalization:\n",
    "#torch.stack([img_t for img_t, _ in dataset_train_transformed],dim=3).view(3,-1).mean(dim=1) #roughly (0.,0.,0.)\n",
    "#torch.stack([img_t for img_t, _ in dataset_train_transformed],dim=3).view(3,-1).std(dim=1) # (1,1,1)"
   ]
  },
  {
   "cell_type": "code",
   "execution_count": 11,
   "id": "20bb895e-6fdb-4fd5-90df-942cd87c8200",
   "metadata": {},
   "outputs": [],
   "source": [
    "# toward a binary classifier: prep data\n",
    "#manually extract relevant train and validation data\n",
    "label_map = {0:0, 2:1} #in the main dataset airplane and bird have indexes 0 and 2 resp.\n",
    "class_names = ['airplane','bird']\n",
    "dataset_train_2 = [(img, label_map[label]) \n",
    "                    for (img, label) in dataset_train_transformed \n",
    "                       if label in [0,2]]\n",
    "dataset_val_2 = [(img, label_map[label]) \n",
    "                    for (img, label) in dataset_val_transformed \n",
    "                       if label in [0,2]]\n",
    "#img, _ = dataset_val_2[100]\n",
    "#plt.imshow(img.permute(1,2,0))"
   ]
  },
  {
   "cell_type": "code",
   "execution_count": 28,
   "id": "6e879f00-468f-4fbd-9408-8d07323c33dc",
   "metadata": {},
   "outputs": [
    {
     "name": "stderr",
     "output_type": "stream",
     "text": [
      "Clipping input data to the valid range for imshow with RGB data ([0..1] for floats or [0..255] for integers).\n"
     ]
    },
    {
     "data": {
      "text/plain": [
       "tensor(0.3443, grad_fn=<NllLossBackward>)"
      ]
     },
     "execution_count": 28,
     "metadata": {},
     "output_type": "execute_result"
    },
    {
     "data": {
      "image/png": "[encoded data removed]",
      "text/plain": [
       "<Figure size 432x288 with 1 Axes>"
      ]
     },
     "metadata": {
      "needs_background": "light"
     },
     "output_type": "display_data"
    }
   ],
   "source": [
    "#nn for the image classifier...\n",
    "\n",
    "import torch.nn as nn\n",
    "\n",
    "n_classes = 2\n",
    "model = nn.Sequential(nn.Linear(3072, 512), #3*32*32 input features, 512 hidden output features\n",
    "                     nn.Tanh(),\n",
    "                     nn.Linear(512,n_classes))\n",
    "\n",
    "#softmax: from (a tensor of) numbers to (a tensor of) probablities\n",
    "def softmax(x):\n",
    "    return torch.exp(x)/torch.exp(x).sum()\n",
    "\n",
    "softmax(torch.tensor([1.,2.,3.]))\n",
    "\n",
    "x = torch.tensor([[1.,2.,3.],[1.,2.,3.]])\n",
    "sftm = nn.Softmax(dim=1) #apply softmax along dim 1\n",
    "sftm(x)\n",
    "\n",
    "#model with softmax\n",
    "model = nn.Sequential(nn.Linear(3072, 512), \n",
    "                     nn.Tanh(),\n",
    "                     nn.Linear(512,n_classes),\n",
    "                     nn.Softmax(dim=1))\n",
    "\n",
    "img,label = dataset_train_2[0]\n",
    "plt.imshow(img.permute(1,2,0))\n",
    "\n",
    "img = img.view(-1).unsqueeze(0) #make it linear (of 3*32*32 = 3072 size) and add a 2nd dim as dim 0: 1 * 3072\n",
    "out = model(img)\n",
    "#print(out)\n",
    "torch.max(out, dim=1) #compute max along dim 1, returns pair of probability and index where max value is\n",
    "\n",
    "\n",
    "#loss function: need to maximize likelihood: out[c_i], i.e., the probability where c_i is the index of correct class\n",
    "#negative log likelihood (NLL): sum(log(out[c_i])) does the job!\n",
    "#To use NLL, change Softmax to LogSoftmax (to compute log of probability), since NLL doesn't compute log.\n",
    "model = nn.Sequential(nn.Linear(3072, 512), \n",
    "                     nn.Tanh(),\n",
    "                     nn.Linear(512,n_classes),\n",
    "                     nn.LogSoftmax(dim=1))\n",
    "out = model(img)\n",
    "loss = nn.NLLLoss()\n",
    "loss(out, torch.tensor([label])) #result of LogSoft and correct label passed"
   ]
  },
  {
   "cell_type": "code",
   "execution_count": 30,
   "id": "886e0ebf-c785-4f8f-ba84-acdc890ea16f",
   "metadata": {},
   "outputs": [],
   "source": [
    "import torch.optim as optim\n",
    "\n",
    "def training_loop(n_epochs, loss_fn, model, optimizer, dataset_train):\n",
    "    for epoch in range(1 + n_epochs):\n",
    "        for img, label in dataset_train:\n",
    "            img = img.view(-1).unsqueeze(0)\n",
    "            out = model(img) # out: of size [n_classes]\n",
    "            loss = loss_fn(out, torch.tensor([label]))\n",
    "            \n",
    "            optimizer.zero_grad()\n",
    "            loss.backward()\n",
    "            optimizer.step()\n",
    "        print(\"epoch: %d, loss: %f\" %(epoch, loss)) #loss of the last img in dataset is reported\n"
   ]
  },
  {
   "cell_type": "code",
   "execution_count": 87,
   "id": "e7ce5478-309c-49e8-9788-c33334cd6dbd",
   "metadata": {},
   "outputs": [],
   "source": [
    "#create a collection of batches from the dataset, size of each batch: 64\n",
    "# 156 batches of size 64, and 1 batch of size 16 (remaining): 156 * 64 + 16 = 10000 (img, lbl) pair in dataset_train_2\n",
    "train_loader = torch.utils.data.DataLoader(dataset_train_2, batch_size=64, shuffle=True)\n",
    "#print(len(train_loader))\n",
    "#print([(imgs.shape, lbls.shape) for imgs, lbls in train_loader][0])\n",
    "\n",
    "# 31 batches of size 64, and 1 batch of size 16: 31 * 64 + 16 = 2000 (img, lbl) pair in dataset_val_2\n",
    "val_loader = torch.utils.data.DataLoader(dataset_val_2, batch_size=64, shuffle = True)\n",
    "#print(len(val_loader))\n",
    "#print([(imgs.shape, lbls.shape)for imgs,lbls in val_loader])\n",
    "\n",
    "def training_loop_2(n_epochs, loss_fn, model, optimizer, dataset_train, train_loader, val_loader):\n",
    "    total = 0 # total number of labels at the end of training\n",
    "    correct = 0 # total num of correctly predicated labels at the end of training\n",
    "    for epoch in range(1 + n_epochs):\n",
    "        for imgs, labels in train_loader: # a random batch is selected\n",
    "            batch_size = imgs.shape[0]\n",
    "            outs = model(imgs.view(batch_size, -1)) # outs: batch_size * n_classes\n",
    "            loss = loss_fn(outs, labels) # since loss is NLL, it doesn't say much about the correct class prediction\n",
    "            \n",
    "            optimizer.zero_grad()\n",
    "            loss.backward()\n",
    "            optimizer.step()\n",
    "            \n",
    "            (max_vals, max_classes) = torch.max(outs, dim=1) #max_vals: batch_size log of likelihoods (return of LogSoftmax)\n",
    "                                                             #max_classes: batch_size indexes of classes with max value: 0 or 1\n",
    "            total += labels.shape[0] # accumulate batch_size's: total number of labels \n",
    "            correct += int((labels == max_classes).sum()) # accumulate number of matching labels\n",
    "        print(\"epoch: %d, loss: %f\" %(epoch, loss)) # loss of the random batch is reported\n",
    "    print(\"training accuracy: %f\", correct/total)\n",
    "        \n",
    "    #model is trained. next, validation...\n",
    "    total = 0 # total number of labels at the end of validation\n",
    "    correct = 0 # total num of correctly predicated labels at the end of validation\n",
    "    with torch.no_grad(): \n",
    "        for imgs, labels in val_loader: # a random batch is selected\n",
    "            batch_size = imgs.shape[0]\n",
    "            outs = model(imgs.view(batch_size, -1)) # outs: batch_size * n_classes, where each value is log of likelihoods (return of LogSoftmax)\n",
    "            (max_vals, max_classes) = torch.max(outs, dim=1) #max_vals: batch_size log of likelihoods (return of LogSoftmax)\n",
    "                                                             #max_classes: batch_size indexes of classes with max value: 0 or 1\n",
    "            total += labels.shape[0] # accumulate batch_size's: total number of labels \n",
    "            correct += int((labels == max_classes).sum()) # accumulate number of matching labels\n",
    "        print('validation accuracy: %f', correct/total)\n",
    "            "
   ]
  },
  {
   "cell_type": "code",
   "execution_count": 89,
   "id": "a2088f48-b149-4327-bd25-6fe13088e29f",
   "metadata": {},
   "outputs": [
    {
     "name": "stdout",
     "output_type": "stream",
     "text": [
      "epoch: 0, loss: 0.000568\n",
      "epoch: 1, loss: 0.000607\n",
      "epoch: 2, loss: 0.001025\n",
      "epoch: 3, loss: 0.001512\n",
      "epoch: 4, loss: 0.000661\n",
      "epoch: 5, loss: 0.000719\n",
      "epoch: 6, loss: 0.000783\n",
      "epoch: 7, loss: 0.000620\n",
      "epoch: 8, loss: 0.000974\n",
      "epoch: 9, loss: 0.000330\n",
      "epoch: 10, loss: 0.000671\n",
      "epoch: 11, loss: 0.000597\n",
      "epoch: 12, loss: 0.001070\n",
      "epoch: 13, loss: 0.000574\n",
      "epoch: 14, loss: 0.000460\n",
      "epoch: 15, loss: 0.000973\n",
      "epoch: 16, loss: 0.000309\n",
      "epoch: 17, loss: 0.000715\n",
      "epoch: 18, loss: 0.000515\n",
      "epoch: 19, loss: 0.001443\n",
      "epoch: 20, loss: 0.000487\n",
      "training accuracy: %f 1.0\n",
      "validation accuracy: %f 0.8135\n"
     ]
    }
   ],
   "source": [
    "training_loop_2(n_epochs = 20, \n",
    "              loss_fn = nn.NLLLoss(),\n",
    "              model = model,\n",
    "              optimizer = optim.SGD(model.parameters(), lr = 1e-2),\n",
    "              dataset_train = dataset_train_2,\n",
    "              train_loader = train_loader,\n",
    "               val_loader = val_loader)"
   ]
  },
  {
   "cell_type": "code",
   "execution_count": 90,
   "id": "8a20584d-7017-495d-b9e6-86588bd8ebe9",
   "metadata": {},
   "outputs": [
    {
     "name": "stdout",
     "output_type": "stream",
     "text": [
      "epoch: 0, loss: 0.711525\n",
      "epoch: 1, loss: 0.714973\n",
      "epoch: 2, loss: 0.728065\n",
      "epoch: 3, loss: 0.694856\n",
      "epoch: 4, loss: 0.670121\n",
      "epoch: 5, loss: 0.696836\n",
      "epoch: 6, loss: 0.711036\n",
      "epoch: 7, loss: 0.690928\n",
      "epoch: 8, loss: 0.693678\n",
      "epoch: 9, loss: 0.694272\n",
      "epoch: 10, loss: 0.687413\n",
      "epoch: 11, loss: 0.702576\n",
      "epoch: 12, loss: 0.692382\n",
      "epoch: 13, loss: 0.671009\n",
      "epoch: 14, loss: 0.665843\n",
      "epoch: 15, loss: 0.696044\n",
      "epoch: 16, loss: 0.672010\n",
      "epoch: 17, loss: 0.680198\n",
      "epoch: 18, loss: 0.680352\n",
      "epoch: 19, loss: 0.706911\n",
      "epoch: 20, loss: 0.699197\n",
      "training accuracy: %f 0.5023\n",
      "validation accuracy: %f 0.5025\n"
     ]
    }
   ],
   "source": [
    "model_bigger = nn.Sequential(nn.Linear(3072,1024),\n",
    "                            nn.Tanh(),\n",
    "                            nn.Linear(1024,512),\n",
    "                            nn.Tanh(),\n",
    "                            nn.Linear(512,128),\n",
    "                            nn.Tanh(),\n",
    "                            nn.Linear(128,n_classes),\n",
    "                            nn.LogSoftmax(dim=1))\n",
    "\n",
    "training_loop_2(n_epochs = 20, \n",
    "              loss_fn = nn.NLLLoss(),\n",
    "              model = model_bigger,\n",
    "              optimizer = optim.SGD(model.parameters(), lr = 1e-2),\n",
    "              dataset_train = dataset_train_2,\n",
    "              train_loader = train_loader,\n",
    "               val_loader = val_loader)"
   ]
  }
 ],
 "metadata": {
  "kernelspec": {
   "display_name": "Python 3 (ipykernel)",
   "language": "python",
   "name": "python3"
  },
  "language_info": {
   "codemirror_mode": {
    "name": "ipython",
    "version": 3
   },
   "file_extension": ".py",
   "mimetype": "text/x-python",
   "name": "python",
   "nbconvert_exporter": "python",
   "pygments_lexer": "ipython3",
   "version": "3.8.9"
  }
 },
 "nbformat": 4,
 "nbformat_minor": 5
}
