{
 "cells": [
  {
   "cell_type": "code",
   "execution_count": 28,
   "id": "b0bb479a-fa17-4c1a-95ef-1c416139edfc",
   "metadata": {},
   "outputs": [
    {
     "name": "stdout",
     "output_type": "stream",
     "text": [
      "10000 2000\n"
     ]
    }
   ],
   "source": [
    "from torchvision import datasets, transforms\n",
    "import torch\n",
    "\n",
    "dataset_train_t = datasets.CIFAR10('.', train = True, download = False, transform = transforms.ToTensor())\n",
    "dataset_val_t = datasets.CIFAR10('.', train = False, download = False, transform = transforms.ToTensor())\n",
    "\n",
    "imgs = torch.stack([img_t for img_t,_ in dataset_train_t], dim=3)\n",
    "[m1,m2,m3] = imgs.view(3,-1).mean(dim=1).numpy()\n",
    "[s1,s2,s3] = imgs.view(3,-1).std(dim=1).numpy()\n",
    "dataset_train_transformed = datasets.CIFAR10('.', train = True, download = False,\n",
    "                                            transform = transforms.Compose([\n",
    "                                                transforms.ToTensor(),\n",
    "                                                transforms.Normalize((m1,m2,m3), (s1,s2,s3))\n",
    "                                            ]))\n",
    "dataset_val_transformed = datasets.CIFAR10('.', train = False, download = False,\n",
    "                                            transform = transforms.Compose([\n",
    "                                                transforms.ToTensor(),\n",
    "                                                transforms.Normalize((m1,m2,m3), (s1,s2,s3))\n",
    "                                            ]))\n",
    "\n",
    "label_map = {0:0, 2:1}\n",
    "class_names = ['airplane', 'bird']\n",
    "dataset_train = [(img, label_map[label]) for (img, label) in dataset_train_transformed if label in [0,2]]\n",
    "dataset_val = [(img, label_map[label]) for (img, label) in dataset_val_transformed if label in [0,2]]\n",
    "print(len(dataset_train), len(dataset_val))"
   ]
  },
  {
   "cell_type": "code",
   "execution_count": 24,
   "id": "a338b9b5-50b1-465b-bca9-1fc1a3336d74",
   "metadata": {},
   "outputs": [
    {
     "name": "stdout",
     "output_type": "stream",
     "text": [
      "torch.Size([16, 3, 3, 3]) torch.Size([16])\n"
     ]
    }
   ],
   "source": [
    "import torch.nn as nn\n",
    "conv= nn.Conv2d(3, 16, kernel_size = 3) # 3 input channels (RGB), 16 output channels, 3*3 kernel size, 1*1 stride\n",
    "print(conv.weight.shape, conv.bias.shape) # bias of conv is the same size as output channels, one bias value per output channel"
   ]
  },
  {
   "cell_type": "code",
   "execution_count": 98,
   "id": "9cd36253-2818-457a-abea-4a92a0eec2cc",
   "metadata": {},
   "outputs": [
    {
     "name": "stderr",
     "output_type": "stream",
     "text": [
      "Clipping input data to the valid range for imshow with RGB data ([0..1] for floats or [0..255] for integers).\n"
     ]
    },
    {
     "name": "stdout",
     "output_type": "stream",
     "text": [
      "torch.Size([3, 32, 32]) torch.Size([1, 16, 32, 32])\n",
      "torch.Size([32, 32])\n"
     ]
    },
    {
     "data": {
      "image/png": "[encoded data removed]",
      "text/plain": [
       "<Figure size 432x288 with 1 Axes>"
      ]
     },
     "metadata": {
      "needs_background": "light"
     },
     "output_type": "display_data"
    }
   ],
   "source": [
    "img_t, lbl = dataset_train[0]\n",
    "out = conv(img_t.unsqueeze(0)) #conv works on B*C*H*W dimensions so image must be extended on 0th dim\n",
    "print(img_t.shape, out.shape)\n",
    "\n",
    "from matplotlib import pyplot as plt\n",
    "plt.imshow(img_t.permute(1,2,0))\n",
    "plt.imshow(out[0,0].detach().numpy()) #try out[0,0], out[0,1] ... out[0,15]\n",
    "print(out[0,0].shape) # 30 * 30 in 0th output channel, no padding reduces the size"
   ]
  },
  {
   "cell_type": "code",
   "execution_count": 99,
   "id": "e90adefa-3bab-46a8-84df-bb583e907534",
   "metadata": {},
   "outputs": [
    {
     "name": "stdout",
     "output_type": "stream",
     "text": [
      "torch.Size([1, 16, 32, 32])\n"
     ]
    },
    {
     "data": {
      "text/plain": [
       "<matplotlib.image.AxesImage at 0x117cb9ee0>"
      ]
     },
     "execution_count": 99,
     "metadata": {},
     "output_type": "execute_result"
    },
    {
     "data": {
      "image/png": "[encoded data removed]",
      "text/plain": [
       "<Figure size 432x288 with 1 Axes>"
      ]
     },
     "metadata": {
      "needs_background": "light"
     },
     "output_type": "display_data"
    }
   ],
   "source": [
    "conv = nn.Conv2d(3, 16, kernel_size = 3, padding = 1) #add 1 pixel to the border of images\n",
    "out = conv(img_t.unsqueeze(0))\n",
    "print(out.shape)\n",
    "plt.imshow(out[0,0].detach())"
   ]
  },
  {
   "cell_type": "code",
   "execution_count": 100,
   "id": "36feaa6e-2acb-492f-b5b8-9debcafc7627",
   "metadata": {},
   "outputs": [
    {
     "name": "stdout",
     "output_type": "stream",
     "text": [
      "torch.Size([3, 16, 16])\n"
     ]
    }
   ],
   "source": [
    "#downsampling\n",
    "pool = nn.MaxPool2d(2) #2*2 max pooling\n",
    "print(pool(img_t).shape)"
   ]
  },
  {
   "cell_type": "code",
   "execution_count": 111,
   "id": "ab323a0e-8dde-4cc8-879f-8faea2d9a183",
   "metadata": {},
   "outputs": [
    {
     "name": "stdout",
     "output_type": "stream",
     "text": [
      "[432, 16, 1152, 8, 16384, 32, 64, 2]\n"
     ]
    },
    {
     "data": {
      "text/plain": [
       "tensor([[-0.0258,  0.2468]], grad_fn=<AddmmBackward>)"
      ]
     },
     "execution_count": 111,
     "metadata": {},
     "output_type": "execute_result"
    }
   ],
   "source": [
    "#input: 1 * 3 * 32 * 32\n",
    "model = nn.Sequential(nn.Conv2d(3, 16, kernel_size=3, padding=1), #output: 1 * 16 * 32 * 32\n",
    "                     nn.Tanh(), #output: 1 * 16 * 32 * 32\n",
    "                     nn.MaxPool2d(2), #output: 1 * 16 * 16 * 16\n",
    "                     nn.Conv2d(16, 8, kernel_size=3, padding=1), #output: 1 * 8 * 16 * 16\n",
    "                     nn.Tanh(), #output: 1 * 8 * 16 * 16\n",
    "                     nn.MaxPool2d(2), #output: 1 * 8 * 8 * 8\n",
    "                     nn.Flatten(), # output: 1 * 512\n",
    "                     nn.Linear(8*8*8, 32), #output: 1 * 32\n",
    "                     nn.Tanh(), #output: 1 * 32\n",
    "                     nn.Linear(32,2) # output: 1 * 2\n",
    "                     )\n",
    "print([p.numel() for p in model.parameters()]) #1st Conv2d: 16*3*3*3 weights, 16 biases\n",
    "                                               #2nd Conv2: 8*16*3*3 weights, 8 biases\n",
    "                                               #1st Linear: 8*8*8*32 weights, 32 biases\n",
    "                                               #2nd Linear: 32*2 wieghts, 2 biases \n",
    "model(img_t.unsqueeze(0))"
   ]
  },
  {
   "cell_type": "code",
   "execution_count": 115,
   "id": "cf9c20c0-dfa2-4c74-8239-25468f2c4fb9",
   "metadata": {},
   "outputs": [
    {
     "data": {
      "text/plain": [
       "[432, 16, 1152, 8, 16384, 32, 64, 2]"
      ]
     },
     "execution_count": 115,
     "metadata": {},
     "output_type": "execute_result"
    }
   ],
   "source": [
    "#a nn.Module subclass with user-defined functionalities\n",
    "class Net(nn.Module):\n",
    "    def __init__(self):\n",
    "        super().__init__()\n",
    "        self.conv1 = nn.Conv2d(3, 16, kernel_size = 3, padding = 1)\n",
    "        self.act1 = nn.Tanh()\n",
    "        self.pool1 = nn.MaxPool2d(2)\n",
    "        self.conv2 = nn.Conv2d(16, 8, kernel_size = 3, padding = 1)\n",
    "        self.act2 = nn.Tanh()\n",
    "        self.pool2 = nn.MaxPool2d(2)\n",
    "        self.fc1 = nn.Linear(512, 32)\n",
    "        self.act3 = nn.Tanh()\n",
    "        self.fc2 = nn.Linear(32,2)\n",
    "    \n",
    "    def forward(self,x):\n",
    "        out = self.pool1(self.act1(self.conv1(x)))\n",
    "        out = self.pool2(self.act2(self.conv2(out)))\n",
    "        out.view(-1, 8*8*8) # does the flattening: 1 * 512\n",
    "        out = self.fc2(self.act3(self.fc1(out)))\n",
    "        return out\n",
    "\n",
    "model = Net()\n",
    "[p.numel() for p in model.parameters()]"
   ]
  },
  {
   "cell_type": "code",
   "execution_count": 132,
   "id": "182901a8-5f3d-41d9-a787-06cc94448a4a",
   "metadata": {},
   "outputs": [
    {
     "name": "stdout",
     "output_type": "stream",
     "text": [
      "[432, 16, 1152, 8, 16384, 32, 64, 2]\n"
     ]
    },
    {
     "data": {
      "text/plain": [
       "tensor([[-0.0187, -0.1943]], grad_fn=<AddmmBackward>)"
      ]
     },
     "execution_count": 132,
     "metadata": {},
     "output_type": "execute_result"
    }
   ],
   "source": [
    "#nn.Tanh() and nn.MaxPool2d do not have parameters to be trained. \n",
    "#Using functional to define them as functions in the submodule\n",
    "\n",
    "import torch.nn.functional as F\n",
    "\n",
    "class Net(nn.Module):\n",
    "    def __init__(self):\n",
    "        super().__init__()\n",
    "        self.conv1 = nn.Conv2d(3, 16, kernel_size = 3, padding = 1)\n",
    "        self.conv2 = nn.Conv2d(16, 8, kernel_size = 3, padding = 1)\n",
    "        self.fc1 = nn.Linear(512,32)\n",
    "        self.fc2 = nn.Linear(32,2)\n",
    "        \n",
    "    def forward(self, x):\n",
    "        out = F.max_pool2d(torch.tanh((self.conv1(x))), 2)\n",
    "        out = F.max_pool2d(torch.tanh((self.conv2(out))), 2)\n",
    "        out = out.view(-1, 8*8*8)\n",
    "        out = self.fc2(torch.tanh(self.fc1(out)))\n",
    "        return out\n",
    "\n",
    "model = Net()\n",
    "print([p.numel() for p in model.parameters()])\n",
    "\n",
    "model(img_t.unsqueeze(0))\n",
    "#img_t.unsqueeze(0).shape"
   ]
  },
  {
   "cell_type": "code",
   "execution_count": 141,
   "id": "c1d64e88-1dfa-4c4c-b056-48b1459a5cc3",
   "metadata": {},
   "outputs": [],
   "source": [
    "import datetime\n",
    "\n",
    "def training_loop(n_epochs, model, loss_fn, optimizer, train_loader):\n",
    "    for epoch in range(1 + n_epochs):\n",
    "        train_loss = 0.0\n",
    "        for (imgs, lbls) in train_loader:\n",
    "            outs = model(imgs) \n",
    "            loss = loss_fn(outs, lbls)\n",
    "            optimizer.zero_grad()\n",
    "            loss.backward()\n",
    "            optimizer.step()\n",
    "            train_loss += loss.item()\n",
    "        if epoch%10 == 0:\n",
    "            print('{} Epoch {}, train loss {}'.format(\n",
    "                datetime.datetime.now(), epoch, train_loss/len(train_loader)))\n",
    "    "
   ]
  },
  {
   "cell_type": "code",
   "execution_count": 142,
   "id": "34db2c9c-80f4-42ce-85e6-2f26a3941f62",
   "metadata": {},
   "outputs": [
    {
     "name": "stdout",
     "output_type": "stream",
     "text": [
      "2022-03-31 18:48:52.377523 Epoch 0, train loss 0.5448620315569981\n",
      "2022-03-31 18:49:15.665628 Epoch 10, train loss 0.3203405313620901\n",
      "2022-03-31 18:49:38.413801 Epoch 20, train loss 0.2916752137006468\n",
      "2022-03-31 18:50:01.886135 Epoch 30, train loss 0.2709023571887593\n",
      "2022-03-31 18:50:25.165701 Epoch 40, train loss 0.2510178666205923\n",
      "2022-03-31 18:50:48.270274 Epoch 50, train loss 0.23231424770917103\n",
      "2022-03-31 18:51:11.108978 Epoch 60, train loss 0.21464032219473722\n",
      "2022-03-31 18:51:34.550012 Epoch 70, train loss 0.19863395772542164\n",
      "2022-03-31 18:51:58.315597 Epoch 80, train loss 0.18403831741232782\n",
      "2022-03-31 18:52:21.178654 Epoch 90, train loss 0.1704572924430583\n",
      "2022-03-31 18:52:43.892321 Epoch 100, train loss 0.15742178807023224\n"
     ]
    }
   ],
   "source": [
    "import torch.optim as optim\n",
    "\n",
    "train_loader = torch.utils.data.DataLoader(dataset_train, batch_size=64, shuffle=False)\n",
    "train_val = torch.utils.data.DataLoader(dataset_val, batch_size=64, shuffle=False)\n",
    "\n",
    "model = Net()\n",
    "loss_fn = nn.CrossEntropyLoss()\n",
    "optimizer = optim.SGD(model.parameters(), lr = 1e-2)\n",
    "\n",
    "training_loop(n_epochs = 100,\n",
    "              model = model,\n",
    "              loss_fn = loss_fn,\n",
    "              optimizer = optimizer,\n",
    "              train_loader = train_loader)"
   ]
  }
 ],
 "metadata": {
  "kernelspec": {
   "display_name": "Python 3 (ipykernel)",
   "language": "python",
   "name": "python3"
  },
  "language_info": {
   "codemirror_mode": {
    "name": "ipython",
    "version": 3
   },
   "file_extension": ".py",
   "mimetype": "text/x-python",
   "name": "python",
   "nbconvert_exporter": "python",
   "pygments_lexer": "ipython3",
   "version": "3.8.9"
  }
 },
 "nbformat": 4,
 "nbformat_minor": 5
}
