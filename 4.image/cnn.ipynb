{
 "cells": [
  {
   "cell_type": "code",
   "execution_count": 1,
   "id": "b0bb479a-fa17-4c1a-95ef-1c416139edfc",
   "metadata": {},
   "outputs": [
    {
     "name": "stdout",
     "output_type": "stream",
     "text": [
      "10000 2000\n"
     ]
    }
   ],
   "source": [
    "from torchvision import datasets, transforms\n",
    "import torch\n",
    "\n",
    "dataset_train_t = datasets.CIFAR10('.', train = True, download = False, transform = transforms.ToTensor())\n",
    "dataset_val_t = datasets.CIFAR10('.', train = False, download = False, transform = transforms.ToTensor())\n",
    "\n",
    "imgs = torch.stack([img_t for img_t,_ in dataset_train_t], dim=3)\n",
    "[m1,m2,m3] = imgs.view(3,-1).mean(dim=1).numpy()\n",
    "[s1,s2,s3] = imgs.view(3,-1).std(dim=1).numpy()\n",
    "dataset_train_transformed = datasets.CIFAR10('.', train = True, download = False,\n",
    "                                            transform = transforms.Compose([\n",
    "                                                transforms.ToTensor(),\n",
    "                                                transforms.Normalize((m1,m2,m3), (s1,s2,s3))\n",
    "                                            ]))\n",
    "dataset_val_transformed = datasets.CIFAR10('.', train = False, download = False,\n",
    "                                            transform = transforms.Compose([\n",
    "                                                transforms.ToTensor(),\n",
    "                                                transforms.Normalize((m1,m2,m3), (s1,s2,s3))\n",
    "                                            ]))\n",
    "\n",
    "label_map = {0:0, 2:1}\n",
    "class_names = ['airplane', 'bird']\n",
    "dataset_train = [(img, label_map[label]) for (img, label) in dataset_train_transformed if label in [0,2]]\n",
    "dataset_val = [(img, label_map[label]) for (img, label) in dataset_val_transformed if label in [0,2]]\n",
    "print(len(dataset_train), len(dataset_val))"
   ]
  },
  {
   "cell_type": "code",
   "execution_count": 2,
   "id": "a338b9b5-50b1-465b-bca9-1fc1a3336d74",
   "metadata": {},
   "outputs": [
    {
     "name": "stdout",
     "output_type": "stream",
     "text": [
      "torch.Size([16, 3, 3, 3]) torch.Size([16])\n"
     ]
    }
   ],
   "source": [
    "import torch.nn as nn\n",
    "conv= nn.Conv2d(3, 16, kernel_size = 3) # 3 input channels (RGB), 16 output channels, 3*3 kernel size, 1*1 stride\n",
    "print(conv.weight.shape, conv.bias.shape) # bias of conv is the same size as output channels, one bias value per output channel"
   ]
  },
  {
   "cell_type": "code",
   "execution_count": 3,
   "id": "9cd36253-2818-457a-abea-4a92a0eec2cc",
   "metadata": {},
   "outputs": [
    {
     "name": "stdout",
     "output_type": "stream",
     "text": [
      "torch.Size([3, 32, 32]) torch.Size([1, 16, 30, 30])\n"
     ]
    },
    {
     "name": "stderr",
     "output_type": "stream",
     "text": [
      "Clipping input data to the valid range for imshow with RGB data ([0..1] for floats or [0..255] for integers).\n"
     ]
    },
    {
     "name": "stdout",
     "output_type": "stream",
     "text": [
      "torch.Size([30, 30])\n"
     ]
    },
    {
     "data": {
      "image/png": "[encoded data removed]",
      "text/plain": [
       "<Figure size 432x288 with 1 Axes>"
      ]
     },
     "metadata": {
      "needs_background": "light"
     },
     "output_type": "display_data"
    }
   ],
   "source": [
    "img_t, lbl = dataset_train[0]\n",
    "out = conv(img_t.unsqueeze(0)) #conv works on B*C*H*W dimensions so image must be extended on 0th dim\n",
    "print(img_t.shape, out.shape)\n",
    "\n",
    "from matplotlib import pyplot as plt\n",
    "plt.imshow(img_t.permute(1,2,0))\n",
    "plt.imshow(out[0,0].detach().numpy()) #try out[0,0], out[0,1] ... out[0,15]\n",
    "print(out[0,0].shape) # 30 * 30 in 0th output channel, no padding reduces the size"
   ]
  },
  {
   "cell_type": "code",
   "execution_count": 4,
   "id": "e90adefa-3bab-46a8-84df-bb583e907534",
   "metadata": {},
   "outputs": [
    {
     "name": "stdout",
     "output_type": "stream",
     "text": [
      "torch.Size([1, 16, 32, 32])\n"
     ]
    },
    {
     "data": {
      "text/plain": [
       "<matplotlib.image.AxesImage at 0x113277af0>"
      ]
     },
     "execution_count": 4,
     "metadata": {},
     "output_type": "execute_result"
    },
    {
     "data": {
      "image/png": "[encoded data removed]",
      "text/plain": [
       "<Figure size 432x288 with 1 Axes>"
      ]
     },
     "metadata": {
      "needs_background": "light"
     },
     "output_type": "display_data"
    }
   ],
   "source": [
    "conv = nn.Conv2d(3, 16, kernel_size = 3, padding = 1) #add 1 pixel to the border of images\n",
    "out = conv(img_t.unsqueeze(0))\n",
    "print(out.shape)\n",
    "plt.imshow(out[0,0].detach())"
   ]
  },
  {
   "cell_type": "code",
   "execution_count": 5,
   "id": "36feaa6e-2acb-492f-b5b8-9debcafc7627",
   "metadata": {},
   "outputs": [
    {
     "name": "stdout",
     "output_type": "stream",
     "text": [
      "torch.Size([3, 16, 16])\n"
     ]
    }
   ],
   "source": [
    "#downsampling\n",
    "pool = nn.MaxPool2d(2) #2*2 max pooling\n",
    "print(pool(img_t).shape)"
   ]
  },
  {
   "cell_type": "code",
   "execution_count": 6,
   "id": "ab323a0e-8dde-4cc8-879f-8faea2d9a183",
   "metadata": {},
   "outputs": [
    {
     "name": "stdout",
     "output_type": "stream",
     "text": [
      "[432, 16, 1152, 8, 16384, 32, 64, 2]\n"
     ]
    },
    {
     "data": {
      "text/plain": [
       "tensor([[-0.0715, -0.0536]], grad_fn=<AddmmBackward>)"
      ]
     },
     "execution_count": 6,
     "metadata": {},
     "output_type": "execute_result"
    }
   ],
   "source": [
    "#input: 1 * 3 * 32 * 32\n",
    "model = nn.Sequential(nn.Conv2d(3, 16, kernel_size=3, padding=1), #output: 1 * 16 * 32 * 32\n",
    "                     nn.Tanh(), #output: 1 * 16 * 32 * 32\n",
    "                     nn.MaxPool2d(2), #output: 1 * 16 * 16 * 16\n",
    "                     nn.Conv2d(16, 8, kernel_size=3, padding=1), #output: 1 * 8 * 16 * 16\n",
    "                     nn.Tanh(), #output: 1 * 8 * 16 * 16\n",
    "                     nn.MaxPool2d(2), #output: 1 * 8 * 8 * 8\n",
    "                     nn.Flatten(), # output: 1 * 512\n",
    "                     nn.Linear(8*8*8, 32), #output: 1 * 32\n",
    "                     nn.Tanh(), #output: 1 * 32\n",
    "                     nn.Linear(32,2) # output: 1 * 2\n",
    "                     )\n",
    "print([p.numel() for p in model.parameters()]) #1st Conv2d: 16*3*3*3 weights, 16 biases\n",
    "                                               #2nd Conv2: 8*16*3*3 weights, 8 biases\n",
    "                                               #1st Linear: 8*8*8*32 weights, 32 biases\n",
    "                                               #2nd Linear: 32*2 wieghts, 2 biases \n",
    "model(img_t.unsqueeze(0))"
   ]
  },
  {
   "cell_type": "code",
   "execution_count": 7,
   "id": "cf9c20c0-dfa2-4c74-8239-25468f2c4fb9",
   "metadata": {},
   "outputs": [
    {
     "data": {
      "text/plain": [
       "[432, 16, 1152, 8, 16384, 32, 64, 2]"
      ]
     },
     "execution_count": 7,
     "metadata": {},
     "output_type": "execute_result"
    }
   ],
   "source": [
    "#a nn.Module subclass with user-defined functionalities\n",
    "class Net(nn.Module):\n",
    "    def __init__(self):\n",
    "        super().__init__()\n",
    "        self.conv1 = nn.Conv2d(3, 16, kernel_size = 3, padding = 1)\n",
    "        self.act1 = nn.Tanh()\n",
    "        self.pool1 = nn.MaxPool2d(2)\n",
    "        self.conv2 = nn.Conv2d(16, 8, kernel_size = 3, padding = 1)\n",
    "        self.act2 = nn.Tanh()\n",
    "        self.pool2 = nn.MaxPool2d(2)\n",
    "        self.fc1 = nn.Linear(512, 32)\n",
    "        self.act3 = nn.Tanh()\n",
    "        self.fc2 = nn.Linear(32,2)\n",
    "    \n",
    "    def forward(self,x):\n",
    "        out = self.pool1(self.act1(self.conv1(x)))\n",
    "        out = self.pool2(self.act2(self.conv2(out)))\n",
    "        out.view(-1, 8*8*8) # does the flattening: 1 * 512\n",
    "        out = self.fc2(self.act3(self.fc1(out)))\n",
    "        return out\n",
    "\n",
    "model = Net()\n",
    "[p.numel() for p in model.parameters()]"
   ]
  },
  {
   "cell_type": "code",
   "execution_count": 8,
   "id": "182901a8-5f3d-41d9-a787-06cc94448a4a",
   "metadata": {},
   "outputs": [
    {
     "name": "stdout",
     "output_type": "stream",
     "text": [
      "[432, 16, 1152, 8, 16384, 32, 64, 2]\n"
     ]
    },
    {
     "data": {
      "text/plain": [
       "tensor([[-0.1187, -0.2929]], grad_fn=<AddmmBackward>)"
      ]
     },
     "execution_count": 8,
     "metadata": {},
     "output_type": "execute_result"
    }
   ],
   "source": [
    "#nn.Tanh() and nn.MaxPool2d do not have parameters to be trained. \n",
    "#Using functional to define them as functions in the submodule\n",
    "\n",
    "import torch.nn.functional as F\n",
    "\n",
    "class Net(nn.Module):\n",
    "    def __init__(self):\n",
    "        super().__init__()\n",
    "        self.conv1 = nn.Conv2d(3, 16, kernel_size = 3, padding = 1)\n",
    "        self.conv2 = nn.Conv2d(16, 8, kernel_size = 3, padding = 1)\n",
    "        self.fc1 = nn.Linear(512,32)\n",
    "        self.fc2 = nn.Linear(32,2)\n",
    "        \n",
    "    def forward(self, x):\n",
    "        out = F.max_pool2d(torch.tanh((self.conv1(x))), 2)\n",
    "        out = F.max_pool2d(torch.tanh((self.conv2(out))), 2)\n",
    "        out = out.view(-1, 8*8*8)\n",
    "        out = self.fc2(torch.tanh(self.fc1(out)))\n",
    "        return out\n",
    "\n",
    "model = Net()\n",
    "print([p.numel() for p in model.parameters()])\n",
    "\n",
    "model(img_t.unsqueeze(0))\n",
    "#img_t.unsqueeze(0).shape"
   ]
  },
  {
   "cell_type": "code",
   "execution_count": 9,
   "id": "c1d64e88-1dfa-4c4c-b056-48b1459a5cc3",
   "metadata": {},
   "outputs": [],
   "source": [
    "import datetime\n",
    "\n",
    "def training_loop(n_epochs, model, loss_fn, optimizer, train_loader):\n",
    "    for epoch in range(1 + n_epochs):\n",
    "        train_loss = 0.0\n",
    "        for (imgs, lbls) in train_loader:\n",
    "            outs = model(imgs) \n",
    "            loss = loss_fn(outs, lbls)\n",
    "            optimizer.zero_grad()\n",
    "            loss.backward()\n",
    "            optimizer.step()\n",
    "            train_loss += loss.item()\n",
    "        if epoch%10 == 0:\n",
    "            print('{} Epoch {}, train loss {}'.format(\n",
    "                datetime.datetime.now(), epoch, train_loss/len(train_loader)))\n",
    "    "
   ]
  },
  {
   "cell_type": "code",
   "execution_count": 10,
   "id": "34db2c9c-80f4-42ce-85e6-2f26a3941f62",
   "metadata": {},
   "outputs": [
    {
     "name": "stdout",
     "output_type": "stream",
     "text": [
      "2022-04-04 19:08:58.504900 Epoch 0, train loss 0.5903032304375035\n",
      "2022-04-04 19:09:19.703363 Epoch 10, train loss 0.33278256929983757\n",
      "2022-04-04 19:09:40.917561 Epoch 20, train loss 0.280005200748231\n",
      "2022-04-04 19:10:02.079043 Epoch 30, train loss 0.2561660957089655\n",
      "2022-04-04 19:10:23.354073 Epoch 40, train loss 0.23959908008005967\n",
      "2022-04-04 19:10:44.552544 Epoch 50, train loss 0.2246609479188919\n",
      "2022-04-04 19:11:05.907265 Epoch 60, train loss 0.21028359163149146\n",
      "2022-04-04 19:11:27.454657 Epoch 70, train loss 0.19633876437404355\n",
      "2022-04-04 19:11:48.702621 Epoch 80, train loss 0.18269393213425472\n",
      "2022-04-04 19:12:10.046013 Epoch 90, train loss 0.16901339846811478\n",
      "2022-04-04 19:12:31.198781 Epoch 100, train loss 0.1552509972529047\n"
     ]
    }
   ],
   "source": [
    "import torch.optim as optim\n",
    "\n",
    "train_loader = torch.utils.data.DataLoader(dataset_train, batch_size=64, shuffle=False)\n",
    "val_loader = torch.utils.data.DataLoader(dataset_val, batch_size=64, shuffle=False)\n",
    "\n",
    "model = Net()\n",
    "loss_fn = nn.CrossEntropyLoss()\n",
    "optimizer = optim.SGD(model.parameters(), lr = 1e-2)\n",
    "\n",
    "training_loop(n_epochs = 100,\n",
    "              model = model,\n",
    "              loss_fn = loss_fn,\n",
    "              optimizer = optimizer,\n",
    "              train_loader = train_loader)"
   ]
  },
  {
   "cell_type": "code",
   "execution_count": 11,
   "id": "acd760f3-9e21-4eb7-964b-ad973fa25d29",
   "metadata": {},
   "outputs": [
    {
     "name": "stdout",
     "output_type": "stream",
     "text": [
      "accuracy train: 0.9294\n",
      "accuracy val: 0.899\n"
     ]
    }
   ],
   "source": [
    "def validate(model, train_loader, val_loader):\n",
    "    for (name, loader) in [(\"train\", train_loader), (\"val\", val_loader)]:\n",
    "        correct = 0\n",
    "        total = 0\n",
    "        with torch.no_grad():\n",
    "            for (imgs, lbls) in loader:\n",
    "                outs = model(imgs)\n",
    "                _, predicted = torch.max(outs, dim=1) #index of max is used, not the max probability\n",
    "                total += lbls.shape[0] # number of examples is accumulated\n",
    "                correct += int((predicted == lbls).sum())\n",
    "        print(\"accuracy {}: {}\".format(name, correct/total))\n",
    "\n",
    "validate(model, train_loader, val_loader)"
   ]
  },
  {
   "cell_type": "code",
   "execution_count": 12,
   "id": "56541ac7-20df-484c-bc88-4bcd4325d298",
   "metadata": {},
   "outputs": [],
   "source": [
    "torch.save(model.state_dict(), './birds_airplanes_model.pt') #only parameters are saved, not the network structure itself"
   ]
  },
  {
   "cell_type": "code",
   "execution_count": 13,
   "id": "b2d1d957-a214-4aec-9952-7388265eda5e",
   "metadata": {},
   "outputs": [
    {
     "data": {
      "text/plain": [
       "<All keys matched successfully>"
      ]
     },
     "execution_count": 13,
     "metadata": {},
     "output_type": "execute_result"
    }
   ],
   "source": [
    "load_model = Net()\n",
    "load_model.load_state_dict(torch.load('./birds_airplanes_model.pt'))"
   ]
  },
  {
   "cell_type": "code",
   "execution_count": 14,
   "id": "8568d373-5cc5-40eb-ae13-10e2dd649a9d",
   "metadata": {},
   "outputs": [
    {
     "name": "stdout",
     "output_type": "stream",
     "text": [
      "cpu\n",
      "2022-04-04 19:13:21.041762 Epoch 0, train loss 0.5824354575697783\n",
      "2022-04-04 19:13:42.068858 Epoch 10, train loss 0.32963660701065306\n",
      "2022-04-04 19:14:03.256260 Epoch 20, train loss 0.29404123696931606\n",
      "2022-04-04 19:14:24.402660 Epoch 30, train loss 0.26820156633094616\n",
      "2022-04-04 19:14:45.468565 Epoch 40, train loss 0.24787293554870946\n",
      "2022-04-04 19:15:06.707774 Epoch 50, train loss 0.2301603423277284\n",
      "2022-04-04 19:15:27.932138 Epoch 60, train loss 0.21359395591696356\n",
      "2022-04-04 19:15:49.069910 Epoch 70, train loss 0.1973653700511167\n",
      "2022-04-04 19:16:10.179883 Epoch 80, train loss 0.18152965787964262\n",
      "2022-04-04 19:16:31.679216 Epoch 90, train loss 0.16600072353034262\n",
      "2022-04-04 19:16:53.589395 Epoch 100, train loss 0.1508954973642234\n"
     ]
    }
   ],
   "source": [
    "dev = torch.device('cuda') if torch.cuda.is_available() else torch.device('cpu')\n",
    "print(dev)\n",
    "\n",
    "def training_loop(n_epochs, model, loss_fn, optimizer, train_loader):\n",
    "    for epoch in range(1 + n_epochs):\n",
    "        train_loss = 0.0\n",
    "        for (imgs, lbls) in train_loader:\n",
    "            imgs = imgs.to(device = dev) # move images to dev (cpu or cuda)\n",
    "            lbls = lbls.to(device = dev) # move labels to dev (cpu or cuda)\n",
    "            outs = model(imgs) \n",
    "            loss = loss_fn(outs, lbls)\n",
    "            optimizer.zero_grad()\n",
    "            loss.backward()\n",
    "            optimizer.step()\n",
    "            train_loss += loss.item()\n",
    "        if epoch%10 == 0:\n",
    "            print('{} Epoch {}, train loss {}'.format(\n",
    "                datetime.datetime.now(), epoch, train_loss/len(train_loader)))\n",
    "\n",
    "model = Net().to(device = dev)\n",
    "loss_fn = nn.CrossEntropyLoss()\n",
    "optimizer = optim.SGD(model.parameters(), lr = 1e-2)\n",
    "\n",
    "training_loop(n_epochs = 100,\n",
    "              model = model,\n",
    "              loss_fn = loss_fn,\n",
    "              optimizer = optimizer,\n",
    "              train_loader = train_loader)"
   ]
  },
  {
   "cell_type": "code",
   "execution_count": 20,
   "id": "0417a5d2-4098-4ee9-9200-f6ec99bb25f6",
   "metadata": {},
   "outputs": [
    {
     "data": {
      "text/plain": [
       "[432, 16, 1152, 8, 16384, 32, 64, 2]"
      ]
     },
     "execution_count": 20,
     "metadata": {},
     "output_type": "execute_result"
    }
   ],
   "source": [
    "class NetWidth(nn.Module):\n",
    "    def __init__(self, n_chann = 32):\n",
    "        super().__init__()\n",
    "        self.conv1 = nn.Conv2d(3, n_chann, kernel_size = 3, padding = 1)\n",
    "        self.conv2 = nn.Conv2d(n_chann, n_chann // 2, kernel_size = 3, padding = 1)\n",
    "        self.fc1 = nn.Linear(8*8*n_chann//2,32)\n",
    "        self.fc2 = nn.Linear(32,2)\n",
    "        \n",
    "    def forward(self, x):\n",
    "        out = F.max_pool2d(torch.tanh((self.conv1(x))), 2)\n",
    "        out = F.max_pool2d(torch.tanh((self.conv2(out))), 2)\n",
    "        out = out.view(-1, 8*8*n_chann // 2)\n",
    "        out = self.fc2(torch.tanh(self.fc1(out)))\n",
    "        return out\n",
    "model = NetWidth(16)\n",
    "[p.numel() for p in model.parameters()]"
   ]
  },
  {
   "cell_type": "code",
   "execution_count": 23,
   "id": "43dd50cd-74db-486a-914d-66f49f3becc8",
   "metadata": {},
   "outputs": [
    {
     "name": "stdout",
     "output_type": "stream",
     "text": [
      "2022-04-05 14:09:12.409421 Epoch 0, train loss 0.5805089671141023\n",
      "2022-04-05 14:09:35.028305 Epoch 10, train loss 0.32748325966346037\n",
      "2022-04-05 14:09:58.404968 Epoch 20, train loss 0.2917436910852505\n",
      "2022-04-05 14:10:21.394728 Epoch 30, train loss 0.26867887263844725\n",
      "2022-04-05 14:10:44.360163 Epoch 40, train loss 0.25078140161219675\n",
      "2022-04-05 14:11:07.509703 Epoch 50, train loss 0.23527293827882997\n",
      "2022-04-05 14:11:30.188294 Epoch 60, train loss 0.22101993882542204\n",
      "2022-04-05 14:11:52.883772 Epoch 70, train loss 0.20760665644126333\n",
      "2022-04-05 14:12:15.666325 Epoch 80, train loss 0.19445801383940278\n",
      "2022-04-05 14:12:39.558623 Epoch 90, train loss 0.18103404518715135\n",
      "2022-04-05 14:13:02.886291 Epoch 100, train loss 0.16763439323681933\n"
     ]
    }
   ],
   "source": [
    "#L2 regularization: scaled sum of square of all weights and added to loss\n",
    "def training_loop_l2reg(n_epochs, loss_fn, model, optimizer, train_loader):\n",
    "    for epoch in range(n_epochs + 1):\n",
    "        loss_train = 0.0\n",
    "        for imgs, lbls in train_loader:\n",
    "            imgs = imgs.to(device = dev)\n",
    "            lbls = lbls.to(device = dev)\n",
    "            \n",
    "            outs = model(imgs)\n",
    "            loss = loss_fn(outs, lbls)\n",
    "            \n",
    "            l2_lambda = 0.0001  #scale\n",
    "            l2_norm = sum(p.pow(2.0).sum() for p in model.parameters())\n",
    "            loss += l2_lambda * l2_norm\n",
    "            \n",
    "            optimizer.zero_grad()\n",
    "            loss.backward()\n",
    "            optimizer.step()\n",
    "            \n",
    "            loss_train += loss.item()\n",
    "        if epoch%10 == 0:\n",
    "            print('{} Epoch {}, train loss {}'.format(\n",
    "                datetime.datetime.now(), epoch, loss_train/len(train_loader)))\n",
    "\n",
    "model = Net().to(device = dev)\n",
    "loss_fn = nn.CrossEntropyLoss()\n",
    "optimizer = optim.SGD(model.parameters(), lr = 1e-2)\n",
    "\n",
    "training_loop_l2reg(n_epochs = 100,\n",
    "              model = model,\n",
    "              loss_fn = loss_fn,\n",
    "              optimizer = optimizer,\n",
    "              train_loader = train_loader)"
   ]
  },
  {
   "cell_type": "code",
   "execution_count": 27,
   "id": "e3af155c-7097-4855-acf4-0c08b8e385df",
   "metadata": {},
   "outputs": [
    {
     "name": "stdout",
     "output_type": "stream",
     "text": [
      "2022-04-05 14:34:49.384369 Epoch 0, train loss 0.6061132817890993\n",
      "2022-04-05 14:35:12.893912 Epoch 10, train loss 0.43156824370098723\n",
      "2022-04-05 14:35:38.898515 Epoch 20, train loss 0.3860600823239916\n",
      "2022-04-05 14:36:03.027098 Epoch 30, train loss 0.3711202098115994\n",
      "2022-04-05 14:36:25.973815 Epoch 40, train loss 0.3539815061031633\n",
      "2022-04-05 14:36:48.845791 Epoch 50, train loss 0.34695935875746853\n",
      "2022-04-05 14:37:11.915151 Epoch 60, train loss 0.33926434008179196\n",
      "2022-04-05 14:37:34.768879 Epoch 70, train loss 0.3253439414273402\n",
      "2022-04-05 14:37:57.604947 Epoch 80, train loss 0.32017058475761656\n",
      "2022-04-05 14:38:20.486793 Epoch 90, train loss 0.3082927555605105\n",
      "2022-04-05 14:38:43.533714 Epoch 100, train loss 0.3095439202656412\n"
     ]
    }
   ],
   "source": [
    "#Dropout: randomly zero out part of outputs in each iteration across nn\n",
    "class NetDropout(nn.Module):\n",
    "    def __init__(self, n_chann = 32):\n",
    "        super().__init__()\n",
    "        self.n_chann = n_chann\n",
    "        self.conv1 = nn.Conv2d(3, n_chann, kernel_size = 3, padding = 1)\n",
    "        self.conv1_dropout = nn.Dropout2d(p = 0.4) # zero each output with probability 0.4\n",
    "        self.conv2 = nn.Conv2d(n_chann, n_chann // 2, kernel_size = 3, padding = 1)\n",
    "        self.conv2_dropout = nn.Dropout2d(p = 0.4)\n",
    "        self.fc1 = nn.Linear(8*8*n_chann//2, 32)\n",
    "        self.fc2 = nn.Linear(32,2)\n",
    "        \n",
    "    def forward(self, x):\n",
    "        out = F.max_pool2d(torch.tanh(self.conv1(x)), 2)\n",
    "        out = self.conv1_dropout(out)\n",
    "        out = F.max_pool2d(torch.tanh(self.conv2(out)), 2)\n",
    "        out = self.conv2_dropout(out)\n",
    "        out = out.view(-1, 8*8*self.n_chann//2)\n",
    "        out = self.fc2(torch.tanh(self.fc1(out)))\n",
    "        return out\n",
    "\n",
    "model = NetDropout(16).to(device = dev)\n",
    "loss_fn = nn.CrossEntropyLoss()\n",
    "optimizer = optim.SGD(model.parameters(), lr = 1e-2)\n",
    "\n",
    "training_loop(n_epochs = 100,\n",
    "              model = model,\n",
    "              loss_fn = loss_fn,\n",
    "              optimizer = optimizer,\n",
    "              train_loader = train_loader)"
   ]
  },
  {
   "cell_type": "code",
   "execution_count": 35,
   "id": "7ed0e99f-9c2b-43ed-82f8-f9e66734de26",
   "metadata": {},
   "outputs": [
    {
     "name": "stdout",
     "output_type": "stream",
     "text": [
      "2022-04-05 16:38:39.073948 Epoch 0, train loss 0.6956953121598359\n",
      "2022-04-05 16:38:59.425686 Epoch 10, train loss 0.38025894998365145\n",
      "2022-04-05 16:39:19.376260 Epoch 20, train loss 0.3254766572432913\n",
      "2022-04-05 16:39:39.419141 Epoch 30, train loss 0.30201543108293205\n",
      "2022-04-05 16:39:59.355563 Epoch 40, train loss 0.2807615981170326\n",
      "2022-04-05 16:40:19.626337 Epoch 50, train loss 0.26131037940644913\n",
      "2022-04-05 16:40:39.941518 Epoch 60, train loss 0.24451454130897096\n",
      "2022-04-05 16:40:59.911288 Epoch 70, train loss 0.22867406567760334\n",
      "2022-04-05 16:41:20.573256 Epoch 80, train loss 0.21433308896175615\n",
      "2022-04-05 16:41:40.340989 Epoch 90, train loss 0.20088282118367543\n",
      "2022-04-05 16:42:00.257553 Epoch 100, train loss 0.18816859797117816\n"
     ]
    }
   ],
   "source": [
    "#add more depth\n",
    "class NetDepth(nn.Module):\n",
    "    def __init__(self, n_chann = 32):\n",
    "        super().__init__()\n",
    "        self.n_chann = n_chann\n",
    "        self.conv1 = nn.Conv2d(3, n_chann, kernel_size = 3, padding = 1)\n",
    "        self.conv2 = nn.Conv2d(n_chann, n_chann//2, kernel_size = 3, padding = 1)\n",
    "        self.conv3 = nn.Conv2d(n_chann//2, n_chann//2, kernel_size = 3, padding = 1)\n",
    "        self.fc1 = nn.Linear(4*4*n_chann//2, 32)\n",
    "        self.fc2 = nn.Linear(32,2)\n",
    "    \n",
    "    def forward(self, x):\n",
    "        out = F.max_pool2d(torch.relu(self.conv1(x)), 2)\n",
    "        out = F.max_pool2d(torch.relu(self.conv2(out)), 2)\n",
    "        out = F.max_pool2d(torch.relu(self.conv3(out)), 2)\n",
    "        out = out.view(-1, 4*4*self.n_chann//2)\n",
    "        out = self.fc2(torch.relu(self.fc1(out)))\n",
    "        return out\n",
    "\n",
    "model = NetDepth(16).to(device = dev)\n",
    "loss_fn = nn.CrossEntropyLoss()\n",
    "optimizer = optim.SGD(model.parameters(), lr = 1e-2)\n",
    "\n",
    "training_loop(n_epochs = 100,\n",
    "              model = model,\n",
    "              loss_fn = loss_fn,\n",
    "              optimizer = optimizer,\n",
    "              train_loader = train_loader)  "
   ]
  },
  {
   "cell_type": "code",
   "execution_count": 36,
   "id": "fd3fbb44-7467-4b10-a4ef-ee1fcb062257",
   "metadata": {},
   "outputs": [
    {
     "name": "stdout",
     "output_type": "stream",
     "text": [
      "2022-04-05 16:42:08.886536 Epoch 0, train loss 0.6438219843396715\n",
      "2022-04-05 16:42:29.026617 Epoch 10, train loss 0.3386854946043841\n",
      "2022-04-05 16:42:49.415523 Epoch 20, train loss 0.3004460634699293\n",
      "2022-04-05 16:43:08.965825 Epoch 30, train loss 0.2698589261550053\n",
      "2022-04-05 16:43:28.393318 Epoch 40, train loss 0.24464732845118092\n",
      "2022-04-05 16:43:47.953906 Epoch 50, train loss 0.22423920424500848\n",
      "2022-04-05 16:44:07.331254 Epoch 60, train loss 0.20699427618532423\n",
      "2022-04-05 16:44:26.699016 Epoch 70, train loss 0.19021810192591065\n",
      "2022-04-05 16:44:46.380023 Epoch 80, train loss 0.17443141274771112\n",
      "2022-04-05 16:45:05.883567 Epoch 90, train loss 0.1595998618300933\n",
      "2022-04-05 16:45:25.563944 Epoch 100, train loss 0.14543116014379603\n"
     ]
    }
   ],
   "source": [
    "#add more depth: Add skip connection:\n",
    "#the addition of an earlier output to a downstream output to emphasize on its effect, when computing the loss gradient\n",
    "class NetRes(nn.Module):\n",
    "    def __init__(self, n_chann = 32):\n",
    "        super().__init__()\n",
    "        self.n_chann = n_chann\n",
    "        self.conv1 = nn.Conv2d(3, n_chann, kernel_size = 3, padding = 1)\n",
    "        self.conv2 = nn.Conv2d(n_chann, n_chann//2, kernel_size = 3, padding = 1)\n",
    "        self.conv3 = nn.Conv2d(n_chann//2, n_chann//2, kernel_size = 3, padding = 1)\n",
    "        self.fc1 = nn.Linear(4*4*n_chann//2, 32)\n",
    "        self.fc2 = nn.Linear(32,2)\n",
    "    \n",
    "    def forward(self, x):\n",
    "        out = F.max_pool2d(torch.relu(self.conv1(x)), 2)\n",
    "        out = F.max_pool2d(torch.relu(self.conv2(out)), 2)\n",
    "        out1 = out\n",
    "        out = F.max_pool2d(torch.relu(self.conv3(out)) + out1, 2)\n",
    "        out = out.view(-1, 4*4*self.n_chann//2)\n",
    "        out = self.fc2(torch.relu(self.fc1(out)))\n",
    "        return out\n",
    "model = NetRes(16).to(device = dev)\n",
    "loss_fn = nn.CrossEntropyLoss()\n",
    "optimizer = optim.SGD(model.parameters(), lr = 1e-2)\n",
    "\n",
    "training_loop(n_epochs = 100,\n",
    "              model = model,\n",
    "              loss_fn = loss_fn,\n",
    "              optimizer = optimizer,\n",
    "              train_loader = train_loader) "
   ]
  },
  {
   "cell_type": "code",
   "execution_count": 42,
   "id": "d547c15a-61a0-4a01-b187-99c67c7c8d55",
   "metadata": {},
   "outputs": [
    {
     "ename": "AttributeError",
     "evalue": "module 'torch.nn.init' has no attribute 'kaiming_nomral_'",
     "output_type": "error",
     "traceback": [
      "\u001b[0;31m---------------------------------------------------------------------------\u001b[0m",
      "\u001b[0;31mAttributeError\u001b[0m                            Traceback (most recent call last)",
      "\u001b[0;32m/var/folders/9c/5pww0nhx0bv_j4sxtbhpp24c0000gn/T/ipykernel_1921/2931525499.py\u001b[0m in \u001b[0;36m<module>\u001b[0;34m\u001b[0m\n\u001b[1;32m     30\u001b[0m         \u001b[0;32mreturn\u001b[0m \u001b[0mout\u001b[0m\u001b[0;34m\u001b[0m\u001b[0;34m\u001b[0m\u001b[0m\n\u001b[1;32m     31\u001b[0m \u001b[0;34m\u001b[0m\u001b[0m\n\u001b[0;32m---> 32\u001b[0;31m \u001b[0mmodel\u001b[0m \u001b[0;34m=\u001b[0m \u001b[0mResNetDeep\u001b[0m\u001b[0;34m(\u001b[0m\u001b[0;36m16\u001b[0m\u001b[0;34m)\u001b[0m\u001b[0;34m.\u001b[0m\u001b[0mto\u001b[0m\u001b[0;34m(\u001b[0m\u001b[0mdevice\u001b[0m \u001b[0;34m=\u001b[0m \u001b[0mdev\u001b[0m\u001b[0;34m)\u001b[0m\u001b[0;34m\u001b[0m\u001b[0;34m\u001b[0m\u001b[0m\n\u001b[0m\u001b[1;32m     33\u001b[0m \u001b[0mloss_fn\u001b[0m \u001b[0;34m=\u001b[0m \u001b[0mnn\u001b[0m\u001b[0;34m.\u001b[0m\u001b[0mCrossEntropyLoss\u001b[0m\u001b[0;34m(\u001b[0m\u001b[0;34m)\u001b[0m\u001b[0;34m\u001b[0m\u001b[0;34m\u001b[0m\u001b[0m\n\u001b[1;32m     34\u001b[0m \u001b[0moptimizer\u001b[0m \u001b[0;34m=\u001b[0m \u001b[0moptim\u001b[0m\u001b[0;34m.\u001b[0m\u001b[0mSGD\u001b[0m\u001b[0;34m(\u001b[0m\u001b[0mmodel\u001b[0m\u001b[0;34m.\u001b[0m\u001b[0mparameters\u001b[0m\u001b[0;34m(\u001b[0m\u001b[0;34m)\u001b[0m\u001b[0;34m,\u001b[0m \u001b[0mlr\u001b[0m \u001b[0;34m=\u001b[0m \u001b[0;36m1e-2\u001b[0m\u001b[0;34m)\u001b[0m\u001b[0;34m\u001b[0m\u001b[0;34m\u001b[0m\u001b[0m\n",
      "\u001b[0;32m/var/folders/9c/5pww0nhx0bv_j4sxtbhpp24c0000gn/T/ipykernel_1921/2931525499.py\u001b[0m in \u001b[0;36m__init__\u001b[0;34m(self, n_chann, n_blocks)\u001b[0m\n\u001b[1;32m     19\u001b[0m         \u001b[0mself\u001b[0m\u001b[0;34m.\u001b[0m\u001b[0mn_chann\u001b[0m \u001b[0;34m=\u001b[0m \u001b[0mn_chann\u001b[0m\u001b[0;34m\u001b[0m\u001b[0;34m\u001b[0m\u001b[0m\n\u001b[1;32m     20\u001b[0m         \u001b[0mself\u001b[0m\u001b[0;34m.\u001b[0m\u001b[0mconv1\u001b[0m \u001b[0;34m=\u001b[0m \u001b[0mnn\u001b[0m\u001b[0;34m.\u001b[0m\u001b[0mConv2d\u001b[0m\u001b[0;34m(\u001b[0m\u001b[0;36m3\u001b[0m\u001b[0;34m,\u001b[0m \u001b[0mn_chann\u001b[0m\u001b[0;34m,\u001b[0m \u001b[0mkernel_size\u001b[0m \u001b[0;34m=\u001b[0m \u001b[0;36m3\u001b[0m\u001b[0;34m,\u001b[0m \u001b[0mpadding\u001b[0m \u001b[0;34m=\u001b[0m \u001b[0;36m1\u001b[0m\u001b[0;34m)\u001b[0m\u001b[0;34m\u001b[0m\u001b[0;34m\u001b[0m\u001b[0m\n\u001b[0;32m---> 21\u001b[0;31m         \u001b[0mself\u001b[0m\u001b[0;34m.\u001b[0m\u001b[0mresblocks\u001b[0m \u001b[0;34m=\u001b[0m \u001b[0mnn\u001b[0m\u001b[0;34m.\u001b[0m\u001b[0mSequential\u001b[0m\u001b[0;34m(\u001b[0m\u001b[0;34m*\u001b[0m\u001b[0;34m(\u001b[0m\u001b[0mn_blocks\u001b[0m \u001b[0;34m*\u001b[0m \u001b[0;34m[\u001b[0m\u001b[0mResBlock\u001b[0m\u001b[0;34m(\u001b[0m\u001b[0mn_chann\u001b[0m \u001b[0;34m=\u001b[0m \u001b[0mn_chann\u001b[0m\u001b[0;34m)\u001b[0m\u001b[0;34m]\u001b[0m\u001b[0;34m)\u001b[0m\u001b[0;34m)\u001b[0m\u001b[0;34m\u001b[0m\u001b[0;34m\u001b[0m\u001b[0m\n\u001b[0m\u001b[1;32m     22\u001b[0m         \u001b[0mself\u001b[0m\u001b[0;34m.\u001b[0m\u001b[0mfc1\u001b[0m \u001b[0;34m=\u001b[0m \u001b[0mnn\u001b[0m\u001b[0;34m.\u001b[0m\u001b[0mLinear\u001b[0m\u001b[0;34m(\u001b[0m\u001b[0;36m8\u001b[0m\u001b[0;34m*\u001b[0m\u001b[0;36m8\u001b[0m\u001b[0;34m*\u001b[0m\u001b[0mn_chann\u001b[0m\u001b[0;34m,\u001b[0m \u001b[0;36m32\u001b[0m\u001b[0;34m)\u001b[0m\u001b[0;34m\u001b[0m\u001b[0;34m\u001b[0m\u001b[0m\n\u001b[1;32m     23\u001b[0m         \u001b[0mself\u001b[0m\u001b[0;34m.\u001b[0m\u001b[0mfc2\u001b[0m \u001b[0;34m=\u001b[0m \u001b[0mnn\u001b[0m\u001b[0;34m.\u001b[0m\u001b[0mLinear\u001b[0m\u001b[0;34m(\u001b[0m\u001b[0;36m32\u001b[0m\u001b[0;34m,\u001b[0m\u001b[0;36m2\u001b[0m\u001b[0;34m)\u001b[0m\u001b[0;34m\u001b[0m\u001b[0;34m\u001b[0m\u001b[0m\n",
      "\u001b[0;32m/var/folders/9c/5pww0nhx0bv_j4sxtbhpp24c0000gn/T/ipykernel_1921/2931525499.py\u001b[0m in \u001b[0;36m__init__\u001b[0;34m(self, n_chann)\u001b[0m\n\u001b[1;32m      5\u001b[0m         \u001b[0mself\u001b[0m\u001b[0;34m.\u001b[0m\u001b[0mconv\u001b[0m \u001b[0;34m=\u001b[0m \u001b[0mnn\u001b[0m\u001b[0;34m.\u001b[0m\u001b[0mConv2d\u001b[0m\u001b[0;34m(\u001b[0m\u001b[0mn_chann\u001b[0m\u001b[0;34m,\u001b[0m \u001b[0mn_chann\u001b[0m\u001b[0;34m,\u001b[0m \u001b[0mkernel_size\u001b[0m \u001b[0;34m=\u001b[0m \u001b[0;36m3\u001b[0m\u001b[0;34m,\u001b[0m \u001b[0mpadding\u001b[0m \u001b[0;34m=\u001b[0m \u001b[0;36m1\u001b[0m\u001b[0;34m,\u001b[0m \u001b[0mbias\u001b[0m \u001b[0;34m=\u001b[0m \u001b[0;32mFalse\u001b[0m\u001b[0;34m)\u001b[0m\u001b[0;34m\u001b[0m\u001b[0;34m\u001b[0m\u001b[0m\n\u001b[1;32m      6\u001b[0m         \u001b[0mself\u001b[0m\u001b[0;34m.\u001b[0m\u001b[0mbatch_norm\u001b[0m \u001b[0;34m=\u001b[0m \u001b[0mnn\u001b[0m\u001b[0;34m.\u001b[0m\u001b[0mBatchNorm2d\u001b[0m\u001b[0;34m(\u001b[0m\u001b[0mnum_features\u001b[0m \u001b[0;34m=\u001b[0m \u001b[0mn_chann\u001b[0m\u001b[0;34m)\u001b[0m\u001b[0;34m\u001b[0m\u001b[0;34m\u001b[0m\u001b[0m\n\u001b[0;32m----> 7\u001b[0;31m         \u001b[0mtorch\u001b[0m\u001b[0;34m.\u001b[0m\u001b[0mnn\u001b[0m\u001b[0;34m.\u001b[0m\u001b[0minit\u001b[0m\u001b[0;34m.\u001b[0m\u001b[0mkaiming_nomral_\u001b[0m\u001b[0;34m(\u001b[0m\u001b[0mself\u001b[0m\u001b[0;34m.\u001b[0m\u001b[0mconv\u001b[0m\u001b[0;34m.\u001b[0m\u001b[0mweight\u001b[0m\u001b[0;34m,\u001b[0m \u001b[0mnonlinearity\u001b[0m\u001b[0;34m=\u001b[0m\u001b[0;34m'relu'\u001b[0m\u001b[0;34m)\u001b[0m\u001b[0;34m\u001b[0m\u001b[0;34m\u001b[0m\u001b[0m\n\u001b[0m\u001b[1;32m      8\u001b[0m         \u001b[0mtorch\u001b[0m\u001b[0;34m.\u001b[0m\u001b[0mnn\u001b[0m\u001b[0;34m.\u001b[0m\u001b[0mconstant_\u001b[0m\u001b[0;34m(\u001b[0m\u001b[0mself\u001b[0m\u001b[0;34m.\u001b[0m\u001b[0mbatch_norm\u001b[0m\u001b[0;34m.\u001b[0m\u001b[0mweight\u001b[0m\u001b[0;34m,\u001b[0m \u001b[0;36m0.5\u001b[0m\u001b[0;34m)\u001b[0m\u001b[0;34m\u001b[0m\u001b[0;34m\u001b[0m\u001b[0m\n\u001b[1;32m      9\u001b[0m         \u001b[0mtorch\u001b[0m\u001b[0;34m.\u001b[0m\u001b[0mnn\u001b[0m\u001b[0;34m.\u001b[0m\u001b[0minit\u001b[0m\u001b[0;34m.\u001b[0m\u001b[0mzeros_\u001b[0m\u001b[0;34m(\u001b[0m\u001b[0mself\u001b[0m\u001b[0;34m.\u001b[0m\u001b[0mbatch_norm\u001b[0m\u001b[0;34m.\u001b[0m\u001b[0mbias\u001b[0m\u001b[0;34m)\u001b[0m\u001b[0;34m\u001b[0m\u001b[0;34m\u001b[0m\u001b[0m\n",
      "\u001b[0;31mAttributeError\u001b[0m: module 'torch.nn.init' has no attribute 'kaiming_nomral_'"
     ]
    }
   ],
   "source": [
    "#building very deep nn\n",
    "class ResBlock(nn.Module):\n",
    "    def __init__(self, n_chann):\n",
    "        super(ResBlock, self).__init__()\n",
    "        self.conv = nn.Conv2d(n_chann, n_chann, kernel_size = 3, padding = 1, bias = False)\n",
    "        self.batch_norm = nn.BatchNorm2d(num_features = n_chann)\n",
    "        torch.nn.init.kaiming_nomral_(self.conv.weight, nonlinearity='relu')\n",
    "        torch.nn.constant_(self.batch_norm.weight, 0.5)\n",
    "        torch.nn.init.zeros_(self.batch_norm.bias)\n",
    "    def forward(self, x):\n",
    "        out = self.conv(x)\n",
    "        out = self.batch_norm(out)\n",
    "        out = torch.relu(out)\n",
    "        return out + x #skip\n",
    "\n",
    "class ResNetDeep(nn.Module):\n",
    "    def __init__(self, n_chann = 32, n_blocks = 10):\n",
    "        super().__init__()\n",
    "        self.n_chann = n_chann\n",
    "        self.conv1 = nn.Conv2d(3, n_chann, kernel_size = 3, padding = 1)\n",
    "        self.resblocks = nn.Sequential(*(n_blocks * [ResBlock(n_chann = n_chann)]))\n",
    "        self.fc1 = nn.Linear(8*8*n_chann, 32)\n",
    "        self.fc2 = nn.Linear(32,2)\n",
    "    def forward(self, x):\n",
    "        out = F.max_pool2d(torch.relu(self.conv1(x)), 2)\n",
    "        out = self.resblocks(out)\n",
    "        out = F.max_pool2d(out, 2)\n",
    "        out = out.view(-1, 8*8*self.n_chann)\n",
    "        out = self.fc2(torch.relu(self.fc1(out)))\n",
    "        return out\n",
    "    \n",
    "model = ResNetDeep(16).to(device = dev)\n",
    "loss_fn = nn.CrossEntropyLoss()\n",
    "optimizer = optim.SGD(model.parameters(), lr = 1e-2)\n",
    "\n",
    "training_loop(n_epochs = 100,\n",
    "              model = model,\n",
    "              loss_fn = loss_fn,\n",
    "              optimizer = optimizer,\n",
    "              train_loader = train_loader) "
   ]
  }
 ],
 "metadata": {
  "kernelspec": {
   "display_name": "Python 3 (ipykernel)",
   "language": "python",
   "name": "python3"
  },
  "language_info": {
   "codemirror_mode": {
    "name": "ipython",
    "version": 3
   },
   "file_extension": ".py",
   "mimetype": "text/x-python",
   "name": "python",
   "nbconvert_exporter": "python",
   "pygments_lexer": "ipython3",
   "version": "3.8.9"
  }
 },
 "nbformat": 4,
 "nbformat_minor": 5
}
